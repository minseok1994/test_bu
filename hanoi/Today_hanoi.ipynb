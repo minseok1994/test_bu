{
 "cells": [
  {
   "cell_type": "code",
   "execution_count": 71,
   "id": "2e2b1495-6c33-4581-83bb-b801cbcf852c",
   "metadata": {},
   "outputs": [],
   "source": [
    "import requests\n",
    "import pandas as pd\n",
    "from tqdm import tqdm\n",
    "from datetime import datetime, timedelta\n",
    "import pytz"
   ]
  },
  {
   "cell_type": "code",
   "execution_count": 72,
   "id": "4e98c08c-346c-4884-bfa9-1f2734c549f7",
   "metadata": {},
   "outputs": [],
   "source": [
    "now_time_utc = datetime.utcnow()\n",
    "\n",
    "vietnam_timezone = pytz.timezone('Asia/Ho_Chi_Minh')\n",
    "now_time_local = now_time_utc.replace(tzinfo=pytz.utc).astimezone(vietnam_timezone)\n",
    "formatted_time_local = now_time_local.strftime(\"%Y%m%d%H%M\")\n",
    "now_time_vietnam = int(formatted_time_local)"
   ]
  },
  {
   "cell_type": "code",
   "execution_count": 73,
   "id": "c3090e5f-3e34-494e-8c35-a464195ffd62",
   "metadata": {},
   "outputs": [],
   "source": [
    "now_time_utc = datetime.utcnow()\n",
    "\n",
    "vietnam_timezone = pytz.timezone('Asia/Ho_Chi_Minh')\n",
    "now_time_local = now_time_utc.replace(tzinfo=pytz.utc).astimezone(vietnam_timezone)\n",
    "\n",
    "now_time_local = now_time_local.replace(hour=0, minute=0, second=0, microsecond=0)\n",
    "\n",
    "formatted_time_local = now_time_local.strftime(\"%Y%m%d%H%M\")\n",
    "now_time_00= int(formatted_time_local)"
   ]
  },
  {
   "cell_type": "code",
   "execution_count": 74,
   "id": "f6432afe-5bd4-40e8-abbb-a81b42d145cf",
   "metadata": {},
   "outputs": [
    {
     "data": {
      "text/plain": [
       "(202401181753, 202401180000)"
      ]
     },
     "execution_count": 74,
     "metadata": {},
     "output_type": "execute_result"
    }
   ],
   "source": [
    "now_time_vietnam, now_time_00"
   ]
  },
  {
   "cell_type": "code",
   "execution_count": 75,
   "id": "f5d92ef2-d80a-427e-a7b7-16fb1a2bc779",
   "metadata": {},
   "outputs": [],
   "source": [
    "url = \"https://api.stock.naver.com/stock/exchange/HANOI/\"\n",
    "all_data = []  \n",
    "\n",
    "page = 1\n",
    "while True:\n",
    "    payload = {\n",
    "        \"page\": str(page),\n",
    "        \"pageSize\": \"20\"\n",
    "    }\n",
    "    response = requests.get(url, params=payload)\n",
    "    if response.status_code == 200:\n",
    "        data = response.json().get('stocks', [])\n",
    "        all_data.extend(data)\n",
    "\n",
    "        if len(data) == 0:\n",
    "            break \n",
    "        else:\n",
    "            page += 1  \n",
    "    else:\n",
    "        print(f'HTTP 요청 실패: {response.status_code}')\n",
    "        break\n",
    "        \n",
    "hanoi_stocks = pd.DataFrame(all_data)\n",
    "reutersCode = hanoi_stocks['reutersCode'].tolist()\n",
    "company = hanoi_stocks['stockName'].tolist()"
   ]
  },
  {
   "cell_type": "code",
   "execution_count": 76,
   "id": "1e4ec062-b1db-4b4c-8ac4-6a1ac45e2952",
   "metadata": {},
   "outputs": [],
   "source": [
    "from tqdm import tqdm"
   ]
  },
  {
   "cell_type": "code",
   "execution_count": 77,
   "id": "1f3662fa-c11e-4bfd-9a38-d6ab495b6991",
   "metadata": {},
   "outputs": [
    {
     "name": "stderr",
     "output_type": "stream",
     "text": [
      "100%|██████████████████████████████████████████████████| 327/327 [00:17<00:00, 18.45it/s]\n"
     ]
    }
   ],
   "source": [
    "for code in tqdm(reutersCode):\n",
    "    url = f\"https://api.stock.naver.com/chart/foreign/item/{code}/day?startDateTime={now_time_00}&endDateTime={now_time_vietnam}\"\n",
    "    r = requests.get(url, data=payload)\n",
    "    r = r.json()\n",
    "    df_r = pd.DataFrame(r)\n",
    "    df_r['Symbol_code'] = code\n",
    "    df_r['localDate'] = pd.to_datetime(df_r['localDate'], format='%Y%m%d')\n",
    "    df_r = df_r.rename(columns={'localDate': 'date', 'closePrice': 'close', 'openPrice': 'open', 'highPrice': 'high', 'lowPrice': 'low', 'accumulatedTradingVolume' : 'volume', 'Symbol_code':'Symbol_code'})\n",
    "    df_r.to_csv(f\"./today_hanoi/{code}_{now_time_vietnam}.csv\", index=False, encoding='utf-8')"
   ]
  },
  {
   "cell_type": "code",
   "execution_count": null,
   "id": "bf9d7b5d-59f4-4738-939c-74c63c449586",
   "metadata": {},
   "outputs": [],
   "source": []
  }
 ],
 "metadata": {
  "kernelspec": {
   "display_name": "Python 3 (ipykernel)",
   "language": "python",
   "name": "python3"
  },
  "language_info": {
   "codemirror_mode": {
    "name": "ipython",
    "version": 3
   },
   "file_extension": ".py",
   "mimetype": "text/x-python",
   "name": "python",
   "nbconvert_exporter": "python",
   "pygments_lexer": "ipython3",
   "version": "3.9.13"
  }
 },
 "nbformat": 4,
 "nbformat_minor": 5
}
