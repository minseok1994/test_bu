{
 "cells": [
  {
   "cell_type": "code",
   "execution_count": 2,
   "id": "0683ee5a-fbbc-48cb-b9f3-e14a4f537054",
   "metadata": {},
   "outputs": [],
   "source": [
    "import requests\n",
    "import pandas as pd\n",
    "import os\n",
    "from tqdm import tqdm \n",
    "url = \"https://api.stock.naver.com/stock/exchange/HANOI/\"\n",
    "all_data = []  \n",
    "\n",
    "page = 1\n",
    "while True:\n",
    "    payload = {\n",
    "        \"page\": str(page),\n",
    "        \"pageSize\": \"20\"\n",
    "    }\n",
    "    response = requests.get(url, params=payload)\n",
    "    if response.status_code == 200:\n",
    "        data = response.json().get('stocks', [])\n",
    "        all_data.extend(data)\n",
    "\n",
    "        if len(data) == 0:\n",
    "            break \n",
    "        else:\n",
    "            page += 1  \n",
    "    else:\n",
    "        print(f'HTTP 요청 실패: {response.status_code}')\n",
    "        break\n",
    "        \n",
    "hanoi_stocks = pd.DataFrame(all_data)\n",
    "Symbol_Code = hanoi_stocks['reutersCode'].tolist()\n",
    "Company = hanoi_stocks['stockName'].tolist()"
   ]
  },
  {
   "cell_type": "code",
   "execution_count": 3,
   "id": "228955f2-d7bd-407e-a632-ea7f66515f40",
   "metadata": {},
   "outputs": [],
   "source": [
    "df = pd.DataFrame({\n",
    "    'Symbol_Code': Symbol_Code,\n",
    "    'Company': Company\n",
    "})"
   ]
  },
  {
   "cell_type": "code",
   "execution_count": 5,
   "id": "682417a5-d206-4c6f-87e4-08b723899f18",
   "metadata": {},
   "outputs": [],
   "source": [
    "df['Exchange'] = 'VIETNAM'"
   ]
  },
  {
   "cell_type": "code",
   "execution_count": 6,
   "id": "6cc5f1f8-b904-4224-ac91-cb356e20a242",
   "metadata": {},
   "outputs": [
    {
     "data": {
      "text/html": [
       "<div>\n",
       "<style scoped>\n",
       "    .dataframe tbody tr th:only-of-type {\n",
       "        vertical-align: middle;\n",
       "    }\n",
       "\n",
       "    .dataframe tbody tr th {\n",
       "        vertical-align: top;\n",
       "    }\n",
       "\n",
       "    .dataframe thead th {\n",
       "        text-align: right;\n",
       "    }\n",
       "</style>\n",
       "<table border=\"1\" class=\"dataframe\">\n",
       "  <thead>\n",
       "    <tr style=\"text-align: right;\">\n",
       "      <th></th>\n",
       "      <th>Symbol_Code</th>\n",
       "      <th>Company</th>\n",
       "      <th>Exchange</th>\n",
       "    </tr>\n",
       "  </thead>\n",
       "  <tbody>\n",
       "    <tr>\n",
       "      <th>0</th>\n",
       "      <td>SHS.HN</td>\n",
       "      <td>사이공하노이증권</td>\n",
       "      <td>VIETNAM</td>\n",
       "    </tr>\n",
       "    <tr>\n",
       "      <th>1</th>\n",
       "      <td>CEO.HN</td>\n",
       "      <td>CEO그룹</td>\n",
       "      <td>VIETNAM</td>\n",
       "    </tr>\n",
       "    <tr>\n",
       "      <th>2</th>\n",
       "      <td>MBG.HN</td>\n",
       "      <td>베트남무역건설개발</td>\n",
       "      <td>VIETNAM</td>\n",
       "    </tr>\n",
       "    <tr>\n",
       "      <th>3</th>\n",
       "      <td>PVS.HN</td>\n",
       "      <td>PV기술서비스</td>\n",
       "      <td>VIETNAM</td>\n",
       "    </tr>\n",
       "    <tr>\n",
       "      <th>4</th>\n",
       "      <td>MBS.HN</td>\n",
       "      <td>MB증권</td>\n",
       "      <td>VIETNAM</td>\n",
       "    </tr>\n",
       "    <tr>\n",
       "      <th>...</th>\n",
       "      <td>...</td>\n",
       "      <td>...</td>\n",
       "      <td>...</td>\n",
       "    </tr>\n",
       "    <tr>\n",
       "      <th>322</th>\n",
       "      <td>X20.HN</td>\n",
       "      <td>X20 JSC</td>\n",
       "      <td>VIETNAM</td>\n",
       "    </tr>\n",
       "    <tr>\n",
       "      <th>323</th>\n",
       "      <td>MVB.HN</td>\n",
       "      <td>비나코민 비엣박 광업지주</td>\n",
       "      <td>VIETNAM</td>\n",
       "    </tr>\n",
       "    <tr>\n",
       "      <th>324</th>\n",
       "      <td>GMA.HN</td>\n",
       "      <td>베트남 엔테코</td>\n",
       "      <td>VIETNAM</td>\n",
       "    </tr>\n",
       "    <tr>\n",
       "      <th>325</th>\n",
       "      <td>PRE.HN</td>\n",
       "      <td>하노이 리인슈어런스</td>\n",
       "      <td>VIETNAM</td>\n",
       "    </tr>\n",
       "    <tr>\n",
       "      <th>326</th>\n",
       "      <td>L40.HN</td>\n",
       "      <td>40 인베스트먼트 앤 컨스트럭션</td>\n",
       "      <td>VIETNAM</td>\n",
       "    </tr>\n",
       "  </tbody>\n",
       "</table>\n",
       "<p>327 rows × 3 columns</p>\n",
       "</div>"
      ],
      "text/plain": [
       "    Symbol_Code            Company Exchange\n",
       "0        SHS.HN           사이공하노이증권  VIETNAM\n",
       "1        CEO.HN              CEO그룹  VIETNAM\n",
       "2        MBG.HN          베트남무역건설개발  VIETNAM\n",
       "3        PVS.HN            PV기술서비스  VIETNAM\n",
       "4        MBS.HN               MB증권  VIETNAM\n",
       "..          ...                ...      ...\n",
       "322      X20.HN            X20 JSC  VIETNAM\n",
       "323      MVB.HN      비나코민 비엣박 광업지주  VIETNAM\n",
       "324      GMA.HN            베트남 엔테코  VIETNAM\n",
       "325      PRE.HN         하노이 리인슈어런스  VIETNAM\n",
       "326      L40.HN  40 인베스트먼트 앤 컨스트럭션  VIETNAM\n",
       "\n",
       "[327 rows x 3 columns]"
      ]
     },
     "execution_count": 6,
     "metadata": {},
     "output_type": "execute_result"
    }
   ],
   "source": [
    "df"
   ]
  },
  {
   "cell_type": "code",
   "execution_count": 11,
   "id": "3e2f1ab4-5a8a-4b7c-b4e6-5308e2fbd804",
   "metadata": {},
   "outputs": [],
   "source": [
    "df.insert(0, 'Exchange', df.pop('Country'))\n",
    "\n",
    "    df_r.to_csv(f\"./vietnam/{code}.csv\", index=False, encoding='utf-8')"
   ]
  },
  {
   "cell_type": "code",
   "execution_count": 14,
   "id": "4fbee940-b7cf-425a-9c2c-2da4e584d4c2",
   "metadata": {},
   "outputs": [],
   "source": [
    "df.to_csv(\"./Hanoi-Company-List.csv\", index=False, encoding='utf-8')"
   ]
  },
  {
   "cell_type": "code",
   "execution_count": null,
   "id": "48bff8ef-c93a-486b-9178-6c22a0159cb0",
   "metadata": {},
   "outputs": [],
   "source": []
  }
 ],
 "metadata": {
  "kernelspec": {
   "display_name": "Python 3 (ipykernel)",
   "language": "python",
   "name": "python3"
  },
  "language_info": {
   "codemirror_mode": {
    "name": "ipython",
    "version": 3
   },
   "file_extension": ".py",
   "mimetype": "text/x-python",
   "name": "python",
   "nbconvert_exporter": "python",
   "pygments_lexer": "ipython3",
   "version": "3.9.13"
  }
 },
 "nbformat": 4,
 "nbformat_minor": 5
}
