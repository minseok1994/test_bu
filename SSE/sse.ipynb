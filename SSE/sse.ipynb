{
 "cells": [
  {
   "cell_type": "code",
   "execution_count": 1,
   "metadata": {},
   "outputs": [
    {
     "name": "stderr",
     "output_type": "stream",
     "text": [
      "100%|██████████| 1525/1525 [00:01<00:00, 923.15it/s]\n"
     ]
    }
   ],
   "source": [
    "from tqdm import tqdm\n",
    "import pandas as pd\n",
    "import os\n",
    "import time\n",
    "import FinanceDataReader as fdr\n",
    "\n",
    "# 상해 상장종목 전체\n",
    "df_sse = fdr.StockListing('SSE')\n",
    "list_sse = df_sse['Symbol']\n"
   ]
  },
  {
   "cell_type": "code",
   "execution_count": 2,
   "metadata": {},
   "outputs": [],
   "source": [
    "def fetch_and_save(symbol):\n",
    "    try:\n",
    "        symbol_with_exchange = 'SSE:' + symbol\n",
    "        # 데이터를 불러옵니다.\n",
    "        code_df = fdr.DataReader(symbol_with_exchange)\n",
    "\n",
    "        # 컬럼 순서 변경 및 Symbol_Code 컬럼 추가\n",
    "        code_df = code_df.reset_index()\n",
    "        code_df['Symbol_Code'] = symbol\n",
    "        code_df = code_df[['Date', 'Close', 'Open', 'High', 'Low', 'Volume', 'Symbol_Code']]\n",
    "\n",
    "        # 파일 저장 경로 설정\n",
    "        directory_path = './stock/'\n",
    "        os.makedirs(directory_path, exist_ok=True)\n",
    "        file_path = os.path.join(directory_path, f\"{symbol}.csv\")\n",
    "\n",
    "        # CSV 파일로 저장\n",
    "        code_df.to_csv(file_path, index=False)\n",
    "\n",
    "        return symbol\n",
    "\n",
    "    except Exception as e:\n",
    "        print(f\"Error occurred for {symbol}: {e}\")\n",
    "        time.sleep(0.1)  # 오류 발생시 대기\n",
    "        return None"
   ]
  },
  {
   "cell_type": "code",
   "execution_count": 3,
   "metadata": {},
   "outputs": [
    {
     "name": "stderr",
     "output_type": "stream",
     "text": [
      "100%|██████████| 1525/1525 [19:47<00:00,  1.28it/s]  \n"
     ]
    }
   ],
   "source": [
    "# 병렬 처리 없이 순차적으로 처리\n",
    "for symbol in tqdm(list_sse):\n",
    "    fetch_and_save(symbol)"
   ]
  },
  {
   "cell_type": "code",
   "execution_count": null,
   "metadata": {},
   "outputs": [],
   "source": [
    "\"강남구\", \"강동구\", \"강북구\", \"강서구\", \"관악구\", \"광진구\", \"구로구\", \"금천구\", \"노원구\", \"도봉구\", \n",
    "\"동대문구\", \"동작구\", \"마포구\", \"서대문구\", \"서초구\", \"성동구\", \"성북구\", \"송파구\", \"양천구\", \n",
    "\"영등포구\", \"용산구\", \"은평구\", \"종로구\", \"중구\", \"중랑구\""
   ]
  }
 ],
 "metadata": {
  "kernelspec": {
   "display_name": "base",
   "language": "python",
   "name": "python3"
  },
  "language_info": {
   "codemirror_mode": {
    "name": "ipython",
    "version": 3
   },
   "file_extension": ".py",
   "mimetype": "text/x-python",
   "name": "python",
   "nbconvert_exporter": "python",
   "pygments_lexer": "ipython3",
   "version": "3.10.12"
  }
 },
 "nbformat": 4,
 "nbformat_minor": 2
}
