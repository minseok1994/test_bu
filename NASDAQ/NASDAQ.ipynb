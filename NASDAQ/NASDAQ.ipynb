{
 "cells": [
  {
   "cell_type": "code",
   "execution_count": 24,
   "id": "c1de378d-3430-44c7-bb1a-660b65c1be4d",
   "metadata": {},
   "outputs": [],
   "source": [
    "import requests \n",
    "import pandas as pd\n",
    "import FinanceDataReader as fdr\n",
    "from tqdm import tqdm\n",
    "from datetime import datetime"
   ]
  },
  {
   "cell_type": "code",
   "execution_count": 2,
   "id": "9cb798d2-d415-49e8-b6ae-babff329bcbb",
   "metadata": {},
   "outputs": [
    {
     "name": "stderr",
     "output_type": "stream",
     "text": [
      "100%|██████████████████████████████████████████████████████████████████████████████████████████████████████████████████████████████████████████████████████████████████| 3877/3877 [00:10<00:00, 366.36it/s]\n"
     ]
    }
   ],
   "source": [
    "NASDAQ = fdr.StockListing('NASDAQ')['Symbol'].tolist()"
   ]
  },
  {
   "cell_type": "code",
   "execution_count": 7,
   "id": "19223c1b-0c7d-4e41-b3fd-fac48cc0542a",
   "metadata": {},
   "outputs": [
    {
     "data": {
      "text/plain": [
       "'MSFT'"
      ]
     },
     "execution_count": 7,
     "metadata": {},
     "output_type": "execute_result"
    }
   ],
   "source": [
    "NASDAQ[0]"
   ]
  },
  {
   "cell_type": "code",
   "execution_count": 6,
   "id": "25c00163-c417-4172-a219-e3c41632e4ec",
   "metadata": {},
   "outputs": [],
   "source": [
    "url = f\"https://api.stock.naver.com/chart/foreign/item/MSFT.O/day?startDateTime=197001010000&endDateTime=202401151122\""
   ]
  },
  {
   "cell_type": "code",
   "execution_count": 8,
   "id": "b5c0eebf-c43c-493f-8ac9-c867839fdf2e",
   "metadata": {},
   "outputs": [],
   "source": [
    "payload = {\n",
    "    \"startDateTime\": \"197001010000\",\n",
    "    \"endDateTime\": \"202401151115\"\n",
    "    }"
   ]
  },
  {
   "cell_type": "code",
   "execution_count": 11,
   "id": "442b1dc1-d49d-43e6-bde3-e4e377cb5709",
   "metadata": {},
   "outputs": [],
   "source": [
    "r = requests.get(url, data=payload)\n",
    "r_js = r.json()"
   ]
  },
  {
   "cell_type": "code",
   "execution_count": 12,
   "id": "602529f1-2df5-4cbe-80e3-d71b99ec41c5",
   "metadata": {},
   "outputs": [
    {
     "data": {
      "text/html": [
       "<div>\n",
       "<style scoped>\n",
       "    .dataframe tbody tr th:only-of-type {\n",
       "        vertical-align: middle;\n",
       "    }\n",
       "\n",
       "    .dataframe tbody tr th {\n",
       "        vertical-align: top;\n",
       "    }\n",
       "\n",
       "    .dataframe thead th {\n",
       "        text-align: right;\n",
       "    }\n",
       "</style>\n",
       "<table border=\"1\" class=\"dataframe\">\n",
       "  <thead>\n",
       "    <tr style=\"text-align: right;\">\n",
       "      <th></th>\n",
       "      <th>localDate</th>\n",
       "      <th>closePrice</th>\n",
       "      <th>openPrice</th>\n",
       "      <th>highPrice</th>\n",
       "      <th>lowPrice</th>\n",
       "      <th>accumulatedTradingVolume</th>\n",
       "    </tr>\n",
       "  </thead>\n",
       "  <tbody>\n",
       "    <tr>\n",
       "      <th>0</th>\n",
       "      <td>20100709</td>\n",
       "      <td>24.27</td>\n",
       "      <td>24.33</td>\n",
       "      <td>24.41</td>\n",
       "      <td>24.15</td>\n",
       "      <td>53811348</td>\n",
       "    </tr>\n",
       "    <tr>\n",
       "      <th>1</th>\n",
       "      <td>20100712</td>\n",
       "      <td>24.83</td>\n",
       "      <td>24.43</td>\n",
       "      <td>24.89</td>\n",
       "      <td>24.42</td>\n",
       "      <td>49862201</td>\n",
       "    </tr>\n",
       "    <tr>\n",
       "      <th>2</th>\n",
       "      <td>20100713</td>\n",
       "      <td>25.13</td>\n",
       "      <td>25.14</td>\n",
       "      <td>25.30</td>\n",
       "      <td>24.90</td>\n",
       "      <td>61928666</td>\n",
       "    </tr>\n",
       "    <tr>\n",
       "      <th>3</th>\n",
       "      <td>20100714</td>\n",
       "      <td>25.44</td>\n",
       "      <td>25.50</td>\n",
       "      <td>25.61</td>\n",
       "      <td>25.12</td>\n",
       "      <td>72808022</td>\n",
       "    </tr>\n",
       "    <tr>\n",
       "      <th>4</th>\n",
       "      <td>20100715</td>\n",
       "      <td>25.51</td>\n",
       "      <td>25.50</td>\n",
       "      <td>25.59</td>\n",
       "      <td>24.98</td>\n",
       "      <td>56934631</td>\n",
       "    </tr>\n",
       "  </tbody>\n",
       "</table>\n",
       "</div>"
      ],
      "text/plain": [
       "  localDate  closePrice  openPrice  highPrice  lowPrice  \\\n",
       "0  20100709       24.27      24.33      24.41     24.15   \n",
       "1  20100712       24.83      24.43      24.89     24.42   \n",
       "2  20100713       25.13      25.14      25.30     24.90   \n",
       "3  20100714       25.44      25.50      25.61     25.12   \n",
       "4  20100715       25.51      25.50      25.59     24.98   \n",
       "\n",
       "   accumulatedTradingVolume  \n",
       "0                  53811348  \n",
       "1                  49862201  \n",
       "2                  61928666  \n",
       "3                  72808022  \n",
       "4                  56934631  "
      ]
     },
     "execution_count": 12,
     "metadata": {},
     "output_type": "execute_result"
    }
   ],
   "source": [
    "df = pd.DataFrame(r_js)\n",
    "df.head()"
   ]
  },
  {
   "cell_type": "code",
   "execution_count": 13,
   "id": "f7be617b-c424-4923-bab7-28ba232dd921",
   "metadata": {},
   "outputs": [
    {
     "data": {
      "text/html": [
       "<div>\n",
       "<style scoped>\n",
       "    .dataframe tbody tr th:only-of-type {\n",
       "        vertical-align: middle;\n",
       "    }\n",
       "\n",
       "    .dataframe tbody tr th {\n",
       "        vertical-align: top;\n",
       "    }\n",
       "\n",
       "    .dataframe thead th {\n",
       "        text-align: right;\n",
       "    }\n",
       "</style>\n",
       "<table border=\"1\" class=\"dataframe\">\n",
       "  <thead>\n",
       "    <tr style=\"text-align: right;\">\n",
       "      <th></th>\n",
       "      <th>localDate</th>\n",
       "      <th>closePrice</th>\n",
       "      <th>openPrice</th>\n",
       "      <th>highPrice</th>\n",
       "      <th>lowPrice</th>\n",
       "      <th>accumulatedTradingVolume</th>\n",
       "    </tr>\n",
       "  </thead>\n",
       "  <tbody>\n",
       "    <tr>\n",
       "      <th>0</th>\n",
       "      <td>2010-07-09</td>\n",
       "      <td>24.27</td>\n",
       "      <td>24.33</td>\n",
       "      <td>24.41</td>\n",
       "      <td>24.15</td>\n",
       "      <td>53811348</td>\n",
       "    </tr>\n",
       "    <tr>\n",
       "      <th>1</th>\n",
       "      <td>2010-07-12</td>\n",
       "      <td>24.83</td>\n",
       "      <td>24.43</td>\n",
       "      <td>24.89</td>\n",
       "      <td>24.42</td>\n",
       "      <td>49862201</td>\n",
       "    </tr>\n",
       "    <tr>\n",
       "      <th>2</th>\n",
       "      <td>2010-07-13</td>\n",
       "      <td>25.13</td>\n",
       "      <td>25.14</td>\n",
       "      <td>25.30</td>\n",
       "      <td>24.90</td>\n",
       "      <td>61928666</td>\n",
       "    </tr>\n",
       "    <tr>\n",
       "      <th>3</th>\n",
       "      <td>2010-07-14</td>\n",
       "      <td>25.44</td>\n",
       "      <td>25.50</td>\n",
       "      <td>25.61</td>\n",
       "      <td>25.12</td>\n",
       "      <td>72808022</td>\n",
       "    </tr>\n",
       "    <tr>\n",
       "      <th>4</th>\n",
       "      <td>2010-07-15</td>\n",
       "      <td>25.51</td>\n",
       "      <td>25.50</td>\n",
       "      <td>25.59</td>\n",
       "      <td>24.98</td>\n",
       "      <td>56934631</td>\n",
       "    </tr>\n",
       "  </tbody>\n",
       "</table>\n",
       "</div>"
      ],
      "text/plain": [
       "   localDate  closePrice  openPrice  highPrice  lowPrice  \\\n",
       "0 2010-07-09       24.27      24.33      24.41     24.15   \n",
       "1 2010-07-12       24.83      24.43      24.89     24.42   \n",
       "2 2010-07-13       25.13      25.14      25.30     24.90   \n",
       "3 2010-07-14       25.44      25.50      25.61     25.12   \n",
       "4 2010-07-15       25.51      25.50      25.59     24.98   \n",
       "\n",
       "   accumulatedTradingVolume  \n",
       "0                  53811348  \n",
       "1                  49862201  \n",
       "2                  61928666  \n",
       "3                  72808022  \n",
       "4                  56934631  "
      ]
     },
     "execution_count": 13,
     "metadata": {},
     "output_type": "execute_result"
    }
   ],
   "source": [
    "df['localDate'] = pd.to_datetime(df['localDate'], format='%Y%m%d')\n",
    "df.head()"
   ]
  },
  {
   "cell_type": "code",
   "execution_count": 16,
   "id": "fa5a81e5-f58d-46bb-a731-c1d037955449",
   "metadata": {},
   "outputs": [],
   "source": [
    "df['Symbol_Code'] = 'MSFT'"
   ]
  },
  {
   "cell_type": "code",
   "execution_count": 17,
   "id": "2297c72e-1fec-4016-acb3-8c2a12a804c1",
   "metadata": {},
   "outputs": [
    {
     "data": {
      "text/html": [
       "<div>\n",
       "<style scoped>\n",
       "    .dataframe tbody tr th:only-of-type {\n",
       "        vertical-align: middle;\n",
       "    }\n",
       "\n",
       "    .dataframe tbody tr th {\n",
       "        vertical-align: top;\n",
       "    }\n",
       "\n",
       "    .dataframe thead th {\n",
       "        text-align: right;\n",
       "    }\n",
       "</style>\n",
       "<table border=\"1\" class=\"dataframe\">\n",
       "  <thead>\n",
       "    <tr style=\"text-align: right;\">\n",
       "      <th></th>\n",
       "      <th>localDate</th>\n",
       "      <th>closePrice</th>\n",
       "      <th>openPrice</th>\n",
       "      <th>highPrice</th>\n",
       "      <th>lowPrice</th>\n",
       "      <th>accumulatedTradingVolume</th>\n",
       "      <th>Symbol_Code</th>\n",
       "    </tr>\n",
       "  </thead>\n",
       "  <tbody>\n",
       "    <tr>\n",
       "      <th>0</th>\n",
       "      <td>2010-07-09</td>\n",
       "      <td>24.27</td>\n",
       "      <td>24.33</td>\n",
       "      <td>24.41</td>\n",
       "      <td>24.15</td>\n",
       "      <td>53811348</td>\n",
       "      <td>MSFT</td>\n",
       "    </tr>\n",
       "    <tr>\n",
       "      <th>1</th>\n",
       "      <td>2010-07-12</td>\n",
       "      <td>24.83</td>\n",
       "      <td>24.43</td>\n",
       "      <td>24.89</td>\n",
       "      <td>24.42</td>\n",
       "      <td>49862201</td>\n",
       "      <td>MSFT</td>\n",
       "    </tr>\n",
       "    <tr>\n",
       "      <th>2</th>\n",
       "      <td>2010-07-13</td>\n",
       "      <td>25.13</td>\n",
       "      <td>25.14</td>\n",
       "      <td>25.30</td>\n",
       "      <td>24.90</td>\n",
       "      <td>61928666</td>\n",
       "      <td>MSFT</td>\n",
       "    </tr>\n",
       "    <tr>\n",
       "      <th>3</th>\n",
       "      <td>2010-07-14</td>\n",
       "      <td>25.44</td>\n",
       "      <td>25.50</td>\n",
       "      <td>25.61</td>\n",
       "      <td>25.12</td>\n",
       "      <td>72808022</td>\n",
       "      <td>MSFT</td>\n",
       "    </tr>\n",
       "    <tr>\n",
       "      <th>4</th>\n",
       "      <td>2010-07-15</td>\n",
       "      <td>25.51</td>\n",
       "      <td>25.50</td>\n",
       "      <td>25.59</td>\n",
       "      <td>24.98</td>\n",
       "      <td>56934631</td>\n",
       "      <td>MSFT</td>\n",
       "    </tr>\n",
       "  </tbody>\n",
       "</table>\n",
       "</div>"
      ],
      "text/plain": [
       "   localDate  closePrice  openPrice  highPrice  lowPrice  \\\n",
       "0 2010-07-09       24.27      24.33      24.41     24.15   \n",
       "1 2010-07-12       24.83      24.43      24.89     24.42   \n",
       "2 2010-07-13       25.13      25.14      25.30     24.90   \n",
       "3 2010-07-14       25.44      25.50      25.61     25.12   \n",
       "4 2010-07-15       25.51      25.50      25.59     24.98   \n",
       "\n",
       "   accumulatedTradingVolume Symbol_Code  \n",
       "0                  53811348        MSFT  \n",
       "1                  49862201        MSFT  \n",
       "2                  61928666        MSFT  \n",
       "3                  72808022        MSFT  \n",
       "4                  56934631        MSFT  "
      ]
     },
     "execution_count": 17,
     "metadata": {},
     "output_type": "execute_result"
    }
   ],
   "source": [
    "df.head()"
   ]
  },
  {
   "cell_type": "code",
   "execution_count": 19,
   "id": "186482d8-5b61-4c81-9ed9-e79e9253a3d6",
   "metadata": {},
   "outputs": [],
   "source": [
    "df.columns = ['date', 'close', 'open', 'high', 'low',\n",
    "       'volume', 'Symbol_Code']"
   ]
  },
  {
   "cell_type": "code",
   "execution_count": 22,
   "id": "4c73fba2-80a2-47b8-a6b1-33c202c43942",
   "metadata": {},
   "outputs": [
    {
     "data": {
      "text/html": [
       "<div>\n",
       "<style scoped>\n",
       "    .dataframe tbody tr th:only-of-type {\n",
       "        vertical-align: middle;\n",
       "    }\n",
       "\n",
       "    .dataframe tbody tr th {\n",
       "        vertical-align: top;\n",
       "    }\n",
       "\n",
       "    .dataframe thead th {\n",
       "        text-align: right;\n",
       "    }\n",
       "</style>\n",
       "<table border=\"1\" class=\"dataframe\">\n",
       "  <thead>\n",
       "    <tr style=\"text-align: right;\">\n",
       "      <th></th>\n",
       "      <th>date</th>\n",
       "      <th>close</th>\n",
       "      <th>open</th>\n",
       "      <th>high</th>\n",
       "      <th>low</th>\n",
       "      <th>volume</th>\n",
       "      <th>Symbol_Code</th>\n",
       "    </tr>\n",
       "  </thead>\n",
       "  <tbody>\n",
       "    <tr>\n",
       "      <th>0</th>\n",
       "      <td>2010-07-09</td>\n",
       "      <td>24.27</td>\n",
       "      <td>24.33</td>\n",
       "      <td>24.41</td>\n",
       "      <td>24.15</td>\n",
       "      <td>53811348</td>\n",
       "      <td>MSFT</td>\n",
       "    </tr>\n",
       "    <tr>\n",
       "      <th>1</th>\n",
       "      <td>2010-07-12</td>\n",
       "      <td>24.83</td>\n",
       "      <td>24.43</td>\n",
       "      <td>24.89</td>\n",
       "      <td>24.42</td>\n",
       "      <td>49862201</td>\n",
       "      <td>MSFT</td>\n",
       "    </tr>\n",
       "    <tr>\n",
       "      <th>2</th>\n",
       "      <td>2010-07-13</td>\n",
       "      <td>25.13</td>\n",
       "      <td>25.14</td>\n",
       "      <td>25.30</td>\n",
       "      <td>24.90</td>\n",
       "      <td>61928666</td>\n",
       "      <td>MSFT</td>\n",
       "    </tr>\n",
       "    <tr>\n",
       "      <th>3</th>\n",
       "      <td>2010-07-14</td>\n",
       "      <td>25.44</td>\n",
       "      <td>25.50</td>\n",
       "      <td>25.61</td>\n",
       "      <td>25.12</td>\n",
       "      <td>72808022</td>\n",
       "      <td>MSFT</td>\n",
       "    </tr>\n",
       "    <tr>\n",
       "      <th>4</th>\n",
       "      <td>2010-07-15</td>\n",
       "      <td>25.51</td>\n",
       "      <td>25.50</td>\n",
       "      <td>25.59</td>\n",
       "      <td>24.98</td>\n",
       "      <td>56934631</td>\n",
       "      <td>MSFT</td>\n",
       "    </tr>\n",
       "  </tbody>\n",
       "</table>\n",
       "</div>"
      ],
      "text/plain": [
       "        date  close   open   high    low    volume Symbol_Code\n",
       "0 2010-07-09  24.27  24.33  24.41  24.15  53811348        MSFT\n",
       "1 2010-07-12  24.83  24.43  24.89  24.42  49862201        MSFT\n",
       "2 2010-07-13  25.13  25.14  25.30  24.90  61928666        MSFT\n",
       "3 2010-07-14  25.44  25.50  25.61  25.12  72808022        MSFT\n",
       "4 2010-07-15  25.51  25.50  25.59  24.98  56934631        MSFT"
      ]
     },
     "execution_count": 22,
     "metadata": {},
     "output_type": "execute_result"
    }
   ],
   "source": [
    "df.head()"
   ]
  },
  {
   "cell_type": "code",
   "execution_count": 72,
   "id": "0709abf2-5e49-411d-a21e-e32faa2b47e7",
   "metadata": {},
   "outputs": [],
   "source": [
    "now  =  datetime.now().strftime(\"%Y%m%d%H%M\")\n",
    "now = '202401130000'"
   ]
  },
  {
   "cell_type": "code",
   "execution_count": 73,
   "id": "4eafa9cf-e906-4a6a-a7a0-10d051ad5b00",
   "metadata": {},
   "outputs": [],
   "source": [
    "url = f\"https://api.stock.naver.com/chart/foreign/item/MSFT.O/day?startDateTime=&endDateTime={now}\""
   ]
  },
  {
   "cell_type": "code",
   "execution_count": 74,
   "id": "ac322350-bda1-49fb-899c-620b94b05ffe",
   "metadata": {},
   "outputs": [],
   "source": [
    "payload = {\n",
    "    \"endDateTime\": f\"{now}\"\n",
    "    }"
   ]
  },
  {
   "cell_type": "code",
   "execution_count": 75,
   "id": "43de8e3c-301a-477b-bab6-b0f55f2d49a1",
   "metadata": {},
   "outputs": [],
   "source": [
    "r = requests.get(url, data=payload)\n",
    "r_js = r.json()"
   ]
  },
  {
   "cell_type": "code",
   "execution_count": 76,
   "id": "cda1057b-2ed8-4a5c-8f09-f7ed4f39ead4",
   "metadata": {},
   "outputs": [
    {
     "data": {
      "text/html": [
       "<div>\n",
       "<style scoped>\n",
       "    .dataframe tbody tr th:only-of-type {\n",
       "        vertical-align: middle;\n",
       "    }\n",
       "\n",
       "    .dataframe tbody tr th {\n",
       "        vertical-align: top;\n",
       "    }\n",
       "\n",
       "    .dataframe thead th {\n",
       "        text-align: right;\n",
       "    }\n",
       "</style>\n",
       "<table border=\"1\" class=\"dataframe\">\n",
       "  <thead>\n",
       "    <tr style=\"text-align: right;\">\n",
       "      <th></th>\n",
       "    </tr>\n",
       "  </thead>\n",
       "  <tbody>\n",
       "  </tbody>\n",
       "</table>\n",
       "</div>"
      ],
      "text/plain": [
       "Empty DataFrame\n",
       "Columns: []\n",
       "Index: []"
      ]
     },
     "execution_count": 76,
     "metadata": {},
     "output_type": "execute_result"
    }
   ],
   "source": [
    "df = pd.DataFrame(r_js)\n",
    "df.head()"
   ]
  },
  {
   "cell_type": "code",
   "execution_count": null,
   "id": "4499116e-9925-4cc5-82da-f2c032f763f0",
   "metadata": {},
   "outputs": [],
   "source": [
    "for i in tqdm(NASDAQ):\n",
    "    \n",
    "    url = f\"https://api.stock.naver.com/chart/foreign/item/{i}.O/day?startDateTime=&endDateTime={now}\"\n",
    "    payload = {\n",
    "    \"endDateTime\": f\"{now}\"\n",
    "    }\n",
    "    r = requests.get(url, data=payload)\n",
    "    r_ = r.json()\n",
    "    df = pd.DataFrame(r_)\n",
    "    df['code'] = i\n",
    "    df['localDate'] = pd.to_datetime(df['localDate'], format='%Y%m%d')\n",
    "    df.columns = ['date', 'close', 'open', 'high', 'low', 'volume', 'Symbol_Code']\n",
    "    df.to_csv(f\"./NASDAQ_stock/{i}.csv\",index=False,encoding=\"utf-8-sig\")"
   ]
  },
  {
   "cell_type": "code",
   "execution_count": null,
   "id": "8eefd1e4-643b-47e4-94d3-c9a53268046b",
   "metadata": {},
   "outputs": [],
   "source": []
  },
  {
   "cell_type": "code",
   "execution_count": null,
   "id": "dd9a67eb-73a9-4112-9c96-92cb4b52a550",
   "metadata": {},
   "outputs": [],
   "source": []
  },
  {
   "cell_type": "code",
   "execution_count": 37,
   "id": "19c4ccd5-e590-4e3e-8cb5-b8faf471c327",
   "metadata": {},
   "outputs": [
    {
     "name": "stderr",
     "output_type": "stream",
     "text": [
      " 10%|████▉                                           | 394/3877 [00:47<06:59,  8.30it/s]\n"
     ]
    },
    {
     "ename": "KeyError",
     "evalue": "'localDate'",
     "output_type": "error",
     "traceback": [
      "\u001b[0;31m---------------------------------------------------------------------------\u001b[0m",
      "\u001b[0;31mKeyError\u001b[0m                                  Traceback (most recent call last)",
      "File \u001b[0;32m/opt/homebrew/Cellar/jupyterlab/4.0.10/libexec/lib/python3.12/site-packages/pandas/core/indexes/base.py:3791\u001b[0m, in \u001b[0;36mIndex.get_loc\u001b[0;34m(self, key)\u001b[0m\n\u001b[1;32m   3790\u001b[0m \u001b[38;5;28;01mtry\u001b[39;00m:\n\u001b[0;32m-> 3791\u001b[0m     \u001b[38;5;28;01mreturn\u001b[39;00m \u001b[38;5;28;43mself\u001b[39;49m\u001b[38;5;241;43m.\u001b[39;49m\u001b[43m_engine\u001b[49m\u001b[38;5;241;43m.\u001b[39;49m\u001b[43mget_loc\u001b[49m\u001b[43m(\u001b[49m\u001b[43mcasted_key\u001b[49m\u001b[43m)\u001b[49m\n\u001b[1;32m   3792\u001b[0m \u001b[38;5;28;01mexcept\u001b[39;00m \u001b[38;5;167;01mKeyError\u001b[39;00m \u001b[38;5;28;01mas\u001b[39;00m err:\n",
      "File \u001b[0;32mindex.pyx:152\u001b[0m, in \u001b[0;36mpandas._libs.index.IndexEngine.get_loc\u001b[0;34m()\u001b[0m\n",
      "File \u001b[0;32mindex.pyx:181\u001b[0m, in \u001b[0;36mpandas._libs.index.IndexEngine.get_loc\u001b[0;34m()\u001b[0m\n",
      "File \u001b[0;32mpandas/_libs/hashtable_class_helper.pxi:7080\u001b[0m, in \u001b[0;36mpandas._libs.hashtable.PyObjectHashTable.get_item\u001b[0;34m()\u001b[0m\n",
      "File \u001b[0;32mpandas/_libs/hashtable_class_helper.pxi:7088\u001b[0m, in \u001b[0;36mpandas._libs.hashtable.PyObjectHashTable.get_item\u001b[0;34m()\u001b[0m\n",
      "\u001b[0;31mKeyError\u001b[0m: 'localDate'",
      "\nThe above exception was the direct cause of the following exception:\n",
      "\u001b[0;31mKeyError\u001b[0m                                  Traceback (most recent call last)",
      "Cell \u001b[0;32mIn[37], line 12\u001b[0m\n\u001b[1;32m     10\u001b[0m df \u001b[38;5;241m=\u001b[39m pd\u001b[38;5;241m.\u001b[39mDataFrame(r_)\n\u001b[1;32m     11\u001b[0m df[\u001b[38;5;124m'\u001b[39m\u001b[38;5;124mcode\u001b[39m\u001b[38;5;124m'\u001b[39m] \u001b[38;5;241m=\u001b[39m i\n\u001b[0;32m---> 12\u001b[0m df[\u001b[38;5;124m'\u001b[39m\u001b[38;5;124mlocalDate\u001b[39m\u001b[38;5;124m'\u001b[39m] \u001b[38;5;241m=\u001b[39m pd\u001b[38;5;241m.\u001b[39mto_datetime(\u001b[43mdf\u001b[49m\u001b[43m[\u001b[49m\u001b[38;5;124;43m'\u001b[39;49m\u001b[38;5;124;43mlocalDate\u001b[39;49m\u001b[38;5;124;43m'\u001b[39;49m\u001b[43m]\u001b[49m, \u001b[38;5;28mformat\u001b[39m\u001b[38;5;241m=\u001b[39m\u001b[38;5;124m'\u001b[39m\u001b[38;5;124m%\u001b[39m\u001b[38;5;124mY\u001b[39m\u001b[38;5;124m%\u001b[39m\u001b[38;5;124mm\u001b[39m\u001b[38;5;132;01m%d\u001b[39;00m\u001b[38;5;124m'\u001b[39m)\n\u001b[1;32m     13\u001b[0m df\u001b[38;5;241m.\u001b[39mcolumns \u001b[38;5;241m=\u001b[39m [\u001b[38;5;124m'\u001b[39m\u001b[38;5;124mdate\u001b[39m\u001b[38;5;124m'\u001b[39m, \u001b[38;5;124m'\u001b[39m\u001b[38;5;124mclose\u001b[39m\u001b[38;5;124m'\u001b[39m, \u001b[38;5;124m'\u001b[39m\u001b[38;5;124mopen\u001b[39m\u001b[38;5;124m'\u001b[39m, \u001b[38;5;124m'\u001b[39m\u001b[38;5;124mhigh\u001b[39m\u001b[38;5;124m'\u001b[39m, \u001b[38;5;124m'\u001b[39m\u001b[38;5;124mlow\u001b[39m\u001b[38;5;124m'\u001b[39m, \u001b[38;5;124m'\u001b[39m\u001b[38;5;124mvolume\u001b[39m\u001b[38;5;124m'\u001b[39m, \u001b[38;5;124m'\u001b[39m\u001b[38;5;124mSymbol_Code\u001b[39m\u001b[38;5;124m'\u001b[39m]\n\u001b[1;32m     14\u001b[0m df\u001b[38;5;241m.\u001b[39mto_csv(\u001b[38;5;124mf\u001b[39m\u001b[38;5;124m\"\u001b[39m\u001b[38;5;124m./NASDAQ_stock/\u001b[39m\u001b[38;5;132;01m{\u001b[39;00mi\u001b[38;5;132;01m}\u001b[39;00m\u001b[38;5;124m.csv\u001b[39m\u001b[38;5;124m\"\u001b[39m,index\u001b[38;5;241m=\u001b[39m\u001b[38;5;28;01mFalse\u001b[39;00m,encoding\u001b[38;5;241m=\u001b[39m\u001b[38;5;124m\"\u001b[39m\u001b[38;5;124mutf-8-sig\u001b[39m\u001b[38;5;124m\"\u001b[39m)\n",
      "File \u001b[0;32m/opt/homebrew/Cellar/jupyterlab/4.0.10/libexec/lib/python3.12/site-packages/pandas/core/frame.py:3893\u001b[0m, in \u001b[0;36mDataFrame.__getitem__\u001b[0;34m(self, key)\u001b[0m\n\u001b[1;32m   3891\u001b[0m \u001b[38;5;28;01mif\u001b[39;00m \u001b[38;5;28mself\u001b[39m\u001b[38;5;241m.\u001b[39mcolumns\u001b[38;5;241m.\u001b[39mnlevels \u001b[38;5;241m>\u001b[39m \u001b[38;5;241m1\u001b[39m:\n\u001b[1;32m   3892\u001b[0m     \u001b[38;5;28;01mreturn\u001b[39;00m \u001b[38;5;28mself\u001b[39m\u001b[38;5;241m.\u001b[39m_getitem_multilevel(key)\n\u001b[0;32m-> 3893\u001b[0m indexer \u001b[38;5;241m=\u001b[39m \u001b[38;5;28;43mself\u001b[39;49m\u001b[38;5;241;43m.\u001b[39;49m\u001b[43mcolumns\u001b[49m\u001b[38;5;241;43m.\u001b[39;49m\u001b[43mget_loc\u001b[49m\u001b[43m(\u001b[49m\u001b[43mkey\u001b[49m\u001b[43m)\u001b[49m\n\u001b[1;32m   3894\u001b[0m \u001b[38;5;28;01mif\u001b[39;00m is_integer(indexer):\n\u001b[1;32m   3895\u001b[0m     indexer \u001b[38;5;241m=\u001b[39m [indexer]\n",
      "File \u001b[0;32m/opt/homebrew/Cellar/jupyterlab/4.0.10/libexec/lib/python3.12/site-packages/pandas/core/indexes/base.py:3798\u001b[0m, in \u001b[0;36mIndex.get_loc\u001b[0;34m(self, key)\u001b[0m\n\u001b[1;32m   3793\u001b[0m     \u001b[38;5;28;01mif\u001b[39;00m \u001b[38;5;28misinstance\u001b[39m(casted_key, \u001b[38;5;28mslice\u001b[39m) \u001b[38;5;129;01mor\u001b[39;00m (\n\u001b[1;32m   3794\u001b[0m         \u001b[38;5;28misinstance\u001b[39m(casted_key, abc\u001b[38;5;241m.\u001b[39mIterable)\n\u001b[1;32m   3795\u001b[0m         \u001b[38;5;129;01mand\u001b[39;00m \u001b[38;5;28many\u001b[39m(\u001b[38;5;28misinstance\u001b[39m(x, \u001b[38;5;28mslice\u001b[39m) \u001b[38;5;28;01mfor\u001b[39;00m x \u001b[38;5;129;01min\u001b[39;00m casted_key)\n\u001b[1;32m   3796\u001b[0m     ):\n\u001b[1;32m   3797\u001b[0m         \u001b[38;5;28;01mraise\u001b[39;00m InvalidIndexError(key)\n\u001b[0;32m-> 3798\u001b[0m     \u001b[38;5;28;01mraise\u001b[39;00m \u001b[38;5;167;01mKeyError\u001b[39;00m(key) \u001b[38;5;28;01mfrom\u001b[39;00m \u001b[38;5;21;01merr\u001b[39;00m\n\u001b[1;32m   3799\u001b[0m \u001b[38;5;28;01mexcept\u001b[39;00m \u001b[38;5;167;01mTypeError\u001b[39;00m:\n\u001b[1;32m   3800\u001b[0m     \u001b[38;5;66;03m# If we have a listlike key, _check_indexing_error will raise\u001b[39;00m\n\u001b[1;32m   3801\u001b[0m     \u001b[38;5;66;03m#  InvalidIndexError. Otherwise we fall through and re-raise\u001b[39;00m\n\u001b[1;32m   3802\u001b[0m     \u001b[38;5;66;03m#  the TypeError.\u001b[39;00m\n\u001b[1;32m   3803\u001b[0m     \u001b[38;5;28mself\u001b[39m\u001b[38;5;241m.\u001b[39m_check_indexing_error(key)\n",
      "\u001b[0;31mKeyError\u001b[0m: 'localDate'"
     ]
    }
   ],
   "source": [
    "for i in tqdm(NASDAQ):\n",
    "    \n",
    "    url = f\"https://api.stock.naver.com/chart/foreign/item/{i}.O/day?startDateTime=197001010000&endDateTime=202401170000\"\n",
    "    payload = {\n",
    "    \"startDateTime\": \"197001010000\",\n",
    "    \"endDateTime\": \"202401170000\"\n",
    "    }\n",
    "    r = requests.get(url, data=payload)\n",
    "    r_ = r.json()\n",
    "    df = pd.DataFrame(r_)\n",
    "    df['code'] = i\n",
    "    df['localDate'] = pd.to_datetime(df['localDate'], format='%Y%m%d')\n",
    "    df.columns = ['date', 'close', 'open', 'high', 'low', 'volume', 'Symbol_Code']\n",
    "    df.to_csv(f\"./NASDAQ_stock/{i}.csv\",index=False,encoding=\"utf-8-sig\")"
   ]
  },
  {
   "cell_type": "code",
   "execution_count": 52,
   "id": "6749cdeb-44fb-49a4-819a-8128f48d58bd",
   "metadata": {},
   "outputs": [
    {
     "data": {
      "text/plain": [
       "'GORV'"
      ]
     },
     "execution_count": 52,
     "metadata": {},
     "output_type": "execute_result"
    }
   ],
   "source": [
    "NASDAQ[2606]"
   ]
  },
  {
   "cell_type": "code",
   "execution_count": 56,
   "id": "226d560c-d395-4fef-80c8-14384d564d66",
   "metadata": {},
   "outputs": [
    {
     "data": {
      "text/plain": [
       "'CLVSQ'"
      ]
     },
     "execution_count": 56,
     "metadata": {},
     "output_type": "execute_result"
    }
   ],
   "source": [
    "NASDAQ[3367]"
   ]
  },
  {
   "cell_type": "code",
   "execution_count": 60,
   "id": "83525ec8-1606-4d78-9786-3c1826880eca",
   "metadata": {},
   "outputs": [
    {
     "data": {
      "text/plain": [
       "'SPEL'"
      ]
     },
     "execution_count": 60,
     "metadata": {},
     "output_type": "execute_result"
    }
   ],
   "source": [
    "NASDAQ[3792]"
   ]
  },
  {
   "cell_type": "code",
   "execution_count": 63,
   "id": "60b3cac4-3d30-4fbd-970e-ef1c308e5f7f",
   "metadata": {},
   "outputs": [
    {
     "data": {
      "text/plain": [
       "'MVNR'"
      ]
     },
     "execution_count": 63,
     "metadata": {},
     "output_type": "execute_result"
    }
   ],
   "source": [
    "NASDAQ[3793]"
   ]
  },
  {
   "cell_type": "code",
   "execution_count": 64,
   "id": "fc40afeb-4b86-4f68-b9d8-40916e3b431b",
   "metadata": {},
   "outputs": [
    {
     "data": {
      "text/plain": [
       "'ADOCR'"
      ]
     },
     "execution_count": 64,
     "metadata": {},
     "output_type": "execute_result"
    }
   ],
   "source": [
    "NASDAQ[3794]"
   ]
  },
  {
   "cell_type": "code",
   "execution_count": 65,
   "id": "9441822b-0d40-4d35-82e1-b6bac9b0a695",
   "metadata": {},
   "outputs": [
    {
     "data": {
      "text/html": [
       "<div>\n",
       "<style scoped>\n",
       "    .dataframe tbody tr th:only-of-type {\n",
       "        vertical-align: middle;\n",
       "    }\n",
       "\n",
       "    .dataframe tbody tr th {\n",
       "        vertical-align: top;\n",
       "    }\n",
       "\n",
       "    .dataframe thead th {\n",
       "        text-align: right;\n",
       "    }\n",
       "</style>\n",
       "<table border=\"1\" class=\"dataframe\">\n",
       "  <thead>\n",
       "    <tr style=\"text-align: right;\">\n",
       "      <th></th>\n",
       "      <th>date</th>\n",
       "      <th>close</th>\n",
       "      <th>open</th>\n",
       "      <th>high</th>\n",
       "      <th>low</th>\n",
       "      <th>volume</th>\n",
       "      <th>Symbol_Code</th>\n",
       "    </tr>\n",
       "  </thead>\n",
       "  <tbody>\n",
       "    <tr>\n",
       "      <th>0</th>\n",
       "      <td>2020-12-10</td>\n",
       "      <td>0.3300</td>\n",
       "      <td>0.300</td>\n",
       "      <td>0.330</td>\n",
       "      <td>0.3000</td>\n",
       "      <td>22490</td>\n",
       "      <td>MVNR</td>\n",
       "    </tr>\n",
       "    <tr>\n",
       "      <th>1</th>\n",
       "      <td>2020-12-11</td>\n",
       "      <td>0.2699</td>\n",
       "      <td>0.460</td>\n",
       "      <td>0.460</td>\n",
       "      <td>0.2695</td>\n",
       "      <td>47430</td>\n",
       "      <td>MVNR</td>\n",
       "    </tr>\n",
       "    <tr>\n",
       "      <th>2</th>\n",
       "      <td>2020-12-14</td>\n",
       "      <td>0.3000</td>\n",
       "      <td>0.275</td>\n",
       "      <td>0.300</td>\n",
       "      <td>0.2500</td>\n",
       "      <td>711998</td>\n",
       "      <td>MVNR</td>\n",
       "    </tr>\n",
       "    <tr>\n",
       "      <th>3</th>\n",
       "      <td>2020-12-15</td>\n",
       "      <td>0.3000</td>\n",
       "      <td>0.305</td>\n",
       "      <td>0.345</td>\n",
       "      <td>0.2999</td>\n",
       "      <td>231530</td>\n",
       "      <td>MVNR</td>\n",
       "    </tr>\n",
       "    <tr>\n",
       "      <th>4</th>\n",
       "      <td>2020-12-16</td>\n",
       "      <td>0.3294</td>\n",
       "      <td>0.310</td>\n",
       "      <td>0.420</td>\n",
       "      <td>0.3100</td>\n",
       "      <td>27436</td>\n",
       "      <td>MVNR</td>\n",
       "    </tr>\n",
       "  </tbody>\n",
       "</table>\n",
       "</div>"
      ],
      "text/plain": [
       "        date   close   open   high     low  volume Symbol_Code\n",
       "0 2020-12-10  0.3300  0.300  0.330  0.3000   22490        MVNR\n",
       "1 2020-12-11  0.2699  0.460  0.460  0.2695   47430        MVNR\n",
       "2 2020-12-14  0.3000  0.275  0.300  0.2500  711998        MVNR\n",
       "3 2020-12-15  0.3000  0.305  0.345  0.2999  231530        MVNR\n",
       "4 2020-12-16  0.3294  0.310  0.420  0.3100   27436        MVNR"
      ]
     },
     "execution_count": 65,
     "metadata": {},
     "output_type": "execute_result"
    }
   ],
   "source": [
    "url = f\"https://api.stock.naver.com/chart/foreign/item/ADOCR.O/day?startDateTime=197001010000&endDateTime=202401170000\"\n",
    "payload = {\n",
    "\"startDateTime\": \"197001010000\",\n",
    "\"endDateTime\": \"202401170000\"\n",
    "}\n",
    "r = requests.get(url, data=payload)\n",
    "r_ = r.json()\n",
    "df = pd.DataFrame(r_)\n",
    "df['code'] = i\n",
    "df['localDate'] = pd.to_datetime(df['localDate'], format='%Y%m%d')\n",
    "df.columns = ['date', 'close', 'open', 'high', 'low', 'volume', 'Symbol_Code']\n",
    "df.head()"
   ]
  },
  {
   "cell_type": "code",
   "execution_count": 66,
   "id": "abd16e4f-ed0f-44df-b745-1b02855ada47",
   "metadata": {},
   "outputs": [
    {
     "name": "stderr",
     "output_type": "stream",
     "text": [
      " 99%|██████████████████████████████████████████████████▍| 82/83 [00:05<00:00, 15.38it/s]\n"
     ]
    },
    {
     "ename": "KeyError",
     "evalue": "'localDate'",
     "output_type": "error",
     "traceback": [
      "\u001b[0;31m---------------------------------------------------------------------------\u001b[0m",
      "\u001b[0;31mKeyError\u001b[0m                                  Traceback (most recent call last)",
      "File \u001b[0;32m/opt/homebrew/Cellar/jupyterlab/4.0.10/libexec/lib/python3.12/site-packages/pandas/core/indexes/base.py:3791\u001b[0m, in \u001b[0;36mIndex.get_loc\u001b[0;34m(self, key)\u001b[0m\n\u001b[1;32m   3790\u001b[0m \u001b[38;5;28;01mtry\u001b[39;00m:\n\u001b[0;32m-> 3791\u001b[0m     \u001b[38;5;28;01mreturn\u001b[39;00m \u001b[38;5;28;43mself\u001b[39;49m\u001b[38;5;241;43m.\u001b[39;49m\u001b[43m_engine\u001b[49m\u001b[38;5;241;43m.\u001b[39;49m\u001b[43mget_loc\u001b[49m\u001b[43m(\u001b[49m\u001b[43mcasted_key\u001b[49m\u001b[43m)\u001b[49m\n\u001b[1;32m   3792\u001b[0m \u001b[38;5;28;01mexcept\u001b[39;00m \u001b[38;5;167;01mKeyError\u001b[39;00m \u001b[38;5;28;01mas\u001b[39;00m err:\n",
      "File \u001b[0;32mindex.pyx:152\u001b[0m, in \u001b[0;36mpandas._libs.index.IndexEngine.get_loc\u001b[0;34m()\u001b[0m\n",
      "File \u001b[0;32mindex.pyx:181\u001b[0m, in \u001b[0;36mpandas._libs.index.IndexEngine.get_loc\u001b[0;34m()\u001b[0m\n",
      "File \u001b[0;32mpandas/_libs/hashtable_class_helper.pxi:7080\u001b[0m, in \u001b[0;36mpandas._libs.hashtable.PyObjectHashTable.get_item\u001b[0;34m()\u001b[0m\n",
      "File \u001b[0;32mpandas/_libs/hashtable_class_helper.pxi:7088\u001b[0m, in \u001b[0;36mpandas._libs.hashtable.PyObjectHashTable.get_item\u001b[0;34m()\u001b[0m\n",
      "\u001b[0;31mKeyError\u001b[0m: 'localDate'",
      "\nThe above exception was the direct cause of the following exception:\n",
      "\u001b[0;31mKeyError\u001b[0m                                  Traceback (most recent call last)",
      "Cell \u001b[0;32mIn[66], line 12\u001b[0m\n\u001b[1;32m     10\u001b[0m df \u001b[38;5;241m=\u001b[39m pd\u001b[38;5;241m.\u001b[39mDataFrame(r_)\n\u001b[1;32m     11\u001b[0m df[\u001b[38;5;124m'\u001b[39m\u001b[38;5;124mcode\u001b[39m\u001b[38;5;124m'\u001b[39m] \u001b[38;5;241m=\u001b[39m i\n\u001b[0;32m---> 12\u001b[0m df[\u001b[38;5;124m'\u001b[39m\u001b[38;5;124mlocalDate\u001b[39m\u001b[38;5;124m'\u001b[39m] \u001b[38;5;241m=\u001b[39m pd\u001b[38;5;241m.\u001b[39mto_datetime(\u001b[43mdf\u001b[49m\u001b[43m[\u001b[49m\u001b[38;5;124;43m'\u001b[39;49m\u001b[38;5;124;43mlocalDate\u001b[39;49m\u001b[38;5;124;43m'\u001b[39;49m\u001b[43m]\u001b[49m, \u001b[38;5;28mformat\u001b[39m\u001b[38;5;241m=\u001b[39m\u001b[38;5;124m'\u001b[39m\u001b[38;5;124m%\u001b[39m\u001b[38;5;124mY\u001b[39m\u001b[38;5;124m%\u001b[39m\u001b[38;5;124mm\u001b[39m\u001b[38;5;132;01m%d\u001b[39;00m\u001b[38;5;124m'\u001b[39m)\n\u001b[1;32m     13\u001b[0m df\u001b[38;5;241m.\u001b[39mcolumns \u001b[38;5;241m=\u001b[39m [\u001b[38;5;124m'\u001b[39m\u001b[38;5;124mdate\u001b[39m\u001b[38;5;124m'\u001b[39m, \u001b[38;5;124m'\u001b[39m\u001b[38;5;124mclose\u001b[39m\u001b[38;5;124m'\u001b[39m, \u001b[38;5;124m'\u001b[39m\u001b[38;5;124mopen\u001b[39m\u001b[38;5;124m'\u001b[39m, \u001b[38;5;124m'\u001b[39m\u001b[38;5;124mhigh\u001b[39m\u001b[38;5;124m'\u001b[39m, \u001b[38;5;124m'\u001b[39m\u001b[38;5;124mlow\u001b[39m\u001b[38;5;124m'\u001b[39m, \u001b[38;5;124m'\u001b[39m\u001b[38;5;124mvolume\u001b[39m\u001b[38;5;124m'\u001b[39m, \u001b[38;5;124m'\u001b[39m\u001b[38;5;124mSymbol_Code\u001b[39m\u001b[38;5;124m'\u001b[39m]\n\u001b[1;32m     14\u001b[0m df\u001b[38;5;241m.\u001b[39mto_csv(\u001b[38;5;124mf\u001b[39m\u001b[38;5;124m\"\u001b[39m\u001b[38;5;124m./NASDAQ_stock/\u001b[39m\u001b[38;5;132;01m{\u001b[39;00mi\u001b[38;5;132;01m}\u001b[39;00m\u001b[38;5;124m.csv\u001b[39m\u001b[38;5;124m\"\u001b[39m,index\u001b[38;5;241m=\u001b[39m\u001b[38;5;28;01mFalse\u001b[39;00m,encoding\u001b[38;5;241m=\u001b[39m\u001b[38;5;124m\"\u001b[39m\u001b[38;5;124mutf-8-sig\u001b[39m\u001b[38;5;124m\"\u001b[39m)\n",
      "File \u001b[0;32m/opt/homebrew/Cellar/jupyterlab/4.0.10/libexec/lib/python3.12/site-packages/pandas/core/frame.py:3893\u001b[0m, in \u001b[0;36mDataFrame.__getitem__\u001b[0;34m(self, key)\u001b[0m\n\u001b[1;32m   3891\u001b[0m \u001b[38;5;28;01mif\u001b[39;00m \u001b[38;5;28mself\u001b[39m\u001b[38;5;241m.\u001b[39mcolumns\u001b[38;5;241m.\u001b[39mnlevels \u001b[38;5;241m>\u001b[39m \u001b[38;5;241m1\u001b[39m:\n\u001b[1;32m   3892\u001b[0m     \u001b[38;5;28;01mreturn\u001b[39;00m \u001b[38;5;28mself\u001b[39m\u001b[38;5;241m.\u001b[39m_getitem_multilevel(key)\n\u001b[0;32m-> 3893\u001b[0m indexer \u001b[38;5;241m=\u001b[39m \u001b[38;5;28;43mself\u001b[39;49m\u001b[38;5;241;43m.\u001b[39;49m\u001b[43mcolumns\u001b[49m\u001b[38;5;241;43m.\u001b[39;49m\u001b[43mget_loc\u001b[49m\u001b[43m(\u001b[49m\u001b[43mkey\u001b[49m\u001b[43m)\u001b[49m\n\u001b[1;32m   3894\u001b[0m \u001b[38;5;28;01mif\u001b[39;00m is_integer(indexer):\n\u001b[1;32m   3895\u001b[0m     indexer \u001b[38;5;241m=\u001b[39m [indexer]\n",
      "File \u001b[0;32m/opt/homebrew/Cellar/jupyterlab/4.0.10/libexec/lib/python3.12/site-packages/pandas/core/indexes/base.py:3798\u001b[0m, in \u001b[0;36mIndex.get_loc\u001b[0;34m(self, key)\u001b[0m\n\u001b[1;32m   3793\u001b[0m     \u001b[38;5;28;01mif\u001b[39;00m \u001b[38;5;28misinstance\u001b[39m(casted_key, \u001b[38;5;28mslice\u001b[39m) \u001b[38;5;129;01mor\u001b[39;00m (\n\u001b[1;32m   3794\u001b[0m         \u001b[38;5;28misinstance\u001b[39m(casted_key, abc\u001b[38;5;241m.\u001b[39mIterable)\n\u001b[1;32m   3795\u001b[0m         \u001b[38;5;129;01mand\u001b[39;00m \u001b[38;5;28many\u001b[39m(\u001b[38;5;28misinstance\u001b[39m(x, \u001b[38;5;28mslice\u001b[39m) \u001b[38;5;28;01mfor\u001b[39;00m x \u001b[38;5;129;01min\u001b[39;00m casted_key)\n\u001b[1;32m   3796\u001b[0m     ):\n\u001b[1;32m   3797\u001b[0m         \u001b[38;5;28;01mraise\u001b[39;00m InvalidIndexError(key)\n\u001b[0;32m-> 3798\u001b[0m     \u001b[38;5;28;01mraise\u001b[39;00m \u001b[38;5;167;01mKeyError\u001b[39;00m(key) \u001b[38;5;28;01mfrom\u001b[39;00m \u001b[38;5;21;01merr\u001b[39;00m\n\u001b[1;32m   3799\u001b[0m \u001b[38;5;28;01mexcept\u001b[39;00m \u001b[38;5;167;01mTypeError\u001b[39;00m:\n\u001b[1;32m   3800\u001b[0m     \u001b[38;5;66;03m# If we have a listlike key, _check_indexing_error will raise\u001b[39;00m\n\u001b[1;32m   3801\u001b[0m     \u001b[38;5;66;03m#  InvalidIndexError. Otherwise we fall through and re-raise\u001b[39;00m\n\u001b[1;32m   3802\u001b[0m     \u001b[38;5;66;03m#  the TypeError.\u001b[39;00m\n\u001b[1;32m   3803\u001b[0m     \u001b[38;5;28mself\u001b[39m\u001b[38;5;241m.\u001b[39m_check_indexing_error(key)\n",
      "\u001b[0;31mKeyError\u001b[0m: 'localDate'"
     ]
    }
   ],
   "source": [
    "for i in tqdm(NASDAQ[3794:]):\n",
    "    \n",
    "    url = f\"https://api.stock.naver.com/chart/foreign/item/{i}.O/day?startDateTime=197001010000&endDateTime=202401170000\"\n",
    "    payload = {\n",
    "    \"startDateTime\": \"197001010000\",\n",
    "    \"endDateTime\": \"202401170000\"\n",
    "    }\n",
    "    r = requests.get(url, data=payload)\n",
    "    r_ = r.json()\n",
    "    df = pd.DataFrame(r_)\n",
    "    df['code'] = i\n",
    "    df['localDate'] = pd.to_datetime(df['localDate'], format='%Y%m%d')\n",
    "    df.columns = ['date', 'close', 'open', 'high', 'low', 'volume', 'Symbol_Code']\n",
    "    df.to_csv(f\"./NASDAQ_stock/{i}.csv\",index=False,encoding=\"utf-8-sig\")"
   ]
  },
  {
   "cell_type": "code",
   "execution_count": 81,
   "id": "2181248f-21ac-4e9a-b126-9ae67dee994c",
   "metadata": {},
   "outputs": [],
   "source": [
    "import os\n",
    "\n",
    "code_lst = []\n",
    "\n",
    "for file in os.listdir(\"./NASDAQ_stock/\"):\n",
    "    f1 = open(\"./NASDAQ_stock/{}\".format(file), \"r\", encoding='utf-8')\n",
    "    data = f1.read()\n",
    "    data = file.split(\".\")[0]\n",
    "    code_lst.append(data)"
   ]
  },
  {
   "cell_type": "code",
   "execution_count": 82,
   "id": "3d49d0eb-c2fc-41ae-85cf-0bbf23197df3",
   "metadata": {},
   "outputs": [
    {
     "data": {
      "text/plain": [
       "3871"
      ]
     },
     "execution_count": 82,
     "metadata": {},
     "output_type": "execute_result"
    }
   ],
   "source": [
    "code_lst.__len__()"
   ]
  },
  {
   "cell_type": "code",
   "execution_count": 99,
   "id": "b63e1844-a042-4b5c-9de5-75e9372bb062",
   "metadata": {},
   "outputs": [
    {
     "name": "stderr",
     "output_type": "stream",
     "text": [
      "100%|█████████████████████████████████████████████| 3871/3871 [00:01<00:00, 3354.13it/s]\n"
     ]
    }
   ],
   "source": [
    "stock_lst = []\n",
    "\n",
    "for i in tqdm(code_lst):\n",
    "    company = nasdaq[nasdaq['Symbol'] == i].reset_index()['Name'][0]\n",
    "    stock_lst.append(['NASDAQ',i,company])"
   ]
  },
  {
   "cell_type": "code",
   "execution_count": 103,
   "id": "12aded9b-dfed-41cb-b006-06db36c57ed2",
   "metadata": {},
   "outputs": [
    {
     "data": {
      "text/html": [
       "<div>\n",
       "<style scoped>\n",
       "    .dataframe tbody tr th:only-of-type {\n",
       "        vertical-align: middle;\n",
       "    }\n",
       "\n",
       "    .dataframe tbody tr th {\n",
       "        vertical-align: top;\n",
       "    }\n",
       "\n",
       "    .dataframe thead th {\n",
       "        text-align: right;\n",
       "    }\n",
       "</style>\n",
       "<table border=\"1\" class=\"dataframe\">\n",
       "  <thead>\n",
       "    <tr style=\"text-align: right;\">\n",
       "      <th></th>\n",
       "      <th>0</th>\n",
       "      <th>1</th>\n",
       "      <th>2</th>\n",
       "    </tr>\n",
       "  </thead>\n",
       "  <tbody>\n",
       "    <tr>\n",
       "      <th>0</th>\n",
       "      <td>NASDAQ</td>\n",
       "      <td>ANTE</td>\n",
       "      <td>Airnet Technology Inc ADR</td>\n",
       "    </tr>\n",
       "    <tr>\n",
       "      <th>1</th>\n",
       "      <td>NASDAQ</td>\n",
       "      <td>BRZE</td>\n",
       "      <td>Braze Inc</td>\n",
       "    </tr>\n",
       "    <tr>\n",
       "      <th>2</th>\n",
       "      <td>NASDAQ</td>\n",
       "      <td>CSCO</td>\n",
       "      <td>Cisco Systems Inc</td>\n",
       "    </tr>\n",
       "    <tr>\n",
       "      <th>3</th>\n",
       "      <td>NASDAQ</td>\n",
       "      <td>TYRA</td>\n",
       "      <td>Tyra Biosciences Inc</td>\n",
       "    </tr>\n",
       "    <tr>\n",
       "      <th>4</th>\n",
       "      <td>NASDAQ</td>\n",
       "      <td>WTO</td>\n",
       "      <td>Utime Ltd</td>\n",
       "    </tr>\n",
       "  </tbody>\n",
       "</table>\n",
       "</div>"
      ],
      "text/plain": [
       "        0     1                          2\n",
       "0  NASDAQ  ANTE  Airnet Technology Inc ADR\n",
       "1  NASDAQ  BRZE                  Braze Inc\n",
       "2  NASDAQ  CSCO          Cisco Systems Inc\n",
       "3  NASDAQ  TYRA       Tyra Biosciences Inc\n",
       "4  NASDAQ   WTO                  Utime Ltd"
      ]
     },
     "metadata": {},
     "output_type": "display_data"
    },
    {
     "data": {
      "text/plain": [
       "(3871, 3)"
      ]
     },
     "metadata": {},
     "output_type": "display_data"
    },
    {
     "name": "stdout",
     "output_type": "stream",
     "text": [
      "<class 'pandas.core.frame.DataFrame'>\n",
      "RangeIndex: 3871 entries, 0 to 3870\n",
      "Data columns (total 3 columns):\n",
      " #   Column  Non-Null Count  Dtype \n",
      "---  ------  --------------  ----- \n",
      " 0   0       3871 non-null   object\n",
      " 1   1       3871 non-null   object\n",
      " 2   2       3871 non-null   object\n",
      "dtypes: object(3)\n",
      "memory usage: 90.9+ KB\n"
     ]
    },
    {
     "data": {
      "text/plain": [
       "None"
      ]
     },
     "metadata": {},
     "output_type": "display_data"
    }
   ],
   "source": [
    "df = pd.DataFrame(stock_lst)\n",
    "display(df.head())\n",
    "display(df.shape)\n",
    "display(df.info())"
   ]
  },
  {
   "cell_type": "code",
   "execution_count": 108,
   "id": "6619a678-8052-430e-9e6f-0458c40015e5",
   "metadata": {},
   "outputs": [],
   "source": [
    "df.columns = ['Exchange','Symbol_Code','Company']"
   ]
  },
  {
   "cell_type": "code",
   "execution_count": 111,
   "id": "1429adad-a030-4dda-88b3-fb6c1a6832f3",
   "metadata": {},
   "outputs": [
    {
     "data": {
      "text/html": [
       "<div>\n",
       "<style scoped>\n",
       "    .dataframe tbody tr th:only-of-type {\n",
       "        vertical-align: middle;\n",
       "    }\n",
       "\n",
       "    .dataframe tbody tr th {\n",
       "        vertical-align: top;\n",
       "    }\n",
       "\n",
       "    .dataframe thead th {\n",
       "        text-align: right;\n",
       "    }\n",
       "</style>\n",
       "<table border=\"1\" class=\"dataframe\">\n",
       "  <thead>\n",
       "    <tr style=\"text-align: right;\">\n",
       "      <th></th>\n",
       "      <th>Exchange</th>\n",
       "      <th>Symbol_Code</th>\n",
       "      <th>Company</th>\n",
       "    </tr>\n",
       "  </thead>\n",
       "  <tbody>\n",
       "    <tr>\n",
       "      <th>0</th>\n",
       "      <td>NASDAQ</td>\n",
       "      <td>ANTE</td>\n",
       "      <td>Airnet Technology Inc ADR</td>\n",
       "    </tr>\n",
       "    <tr>\n",
       "      <th>1</th>\n",
       "      <td>NASDAQ</td>\n",
       "      <td>BRZE</td>\n",
       "      <td>Braze Inc</td>\n",
       "    </tr>\n",
       "    <tr>\n",
       "      <th>2</th>\n",
       "      <td>NASDAQ</td>\n",
       "      <td>CSCO</td>\n",
       "      <td>Cisco Systems Inc</td>\n",
       "    </tr>\n",
       "    <tr>\n",
       "      <th>3</th>\n",
       "      <td>NASDAQ</td>\n",
       "      <td>TYRA</td>\n",
       "      <td>Tyra Biosciences Inc</td>\n",
       "    </tr>\n",
       "    <tr>\n",
       "      <th>4</th>\n",
       "      <td>NASDAQ</td>\n",
       "      <td>WTO</td>\n",
       "      <td>Utime Ltd</td>\n",
       "    </tr>\n",
       "  </tbody>\n",
       "</table>\n",
       "</div>"
      ],
      "text/plain": [
       "  Exchange Symbol_Code                    Company\n",
       "0   NASDAQ        ANTE  Airnet Technology Inc ADR\n",
       "1   NASDAQ        BRZE                  Braze Inc\n",
       "2   NASDAQ        CSCO          Cisco Systems Inc\n",
       "3   NASDAQ        TYRA       Tyra Biosciences Inc\n",
       "4   NASDAQ         WTO                  Utime Ltd"
      ]
     },
     "execution_count": 111,
     "metadata": {},
     "output_type": "execute_result"
    }
   ],
   "source": [
    "df.head()"
   ]
  },
  {
   "cell_type": "code",
   "execution_count": 112,
   "id": "c9c79671-842e-44fc-9dfe-46707536583f",
   "metadata": {},
   "outputs": [],
   "source": [
    "df.to_csv(f\"./NASDAQ_Company_List.csv\",index=False,encoding=\"utf-8-sig\")"
   ]
  },
  {
   "cell_type": "code",
   "execution_count": 84,
   "id": "ed4bf971-01bd-4b83-884e-8a7a29b2e51a",
   "metadata": {},
   "outputs": [
    {
     "name": "stderr",
     "output_type": "stream",
     "text": [
      "100%|██████████████████████████████████████████████| 3877/3877 [00:10<00:00, 362.29it/s]\n"
     ]
    }
   ],
   "source": [
    "nasdaq = fdr.StockListing('NASDAQ')"
   ]
  },
  {
   "cell_type": "code",
   "execution_count": 85,
   "id": "64c3fa82-3e1b-48be-907e-c61216d57f74",
   "metadata": {},
   "outputs": [
    {
     "data": {
      "text/html": [
       "<div>\n",
       "<style scoped>\n",
       "    .dataframe tbody tr th:only-of-type {\n",
       "        vertical-align: middle;\n",
       "    }\n",
       "\n",
       "    .dataframe tbody tr th {\n",
       "        vertical-align: top;\n",
       "    }\n",
       "\n",
       "    .dataframe thead th {\n",
       "        text-align: right;\n",
       "    }\n",
       "</style>\n",
       "<table border=\"1\" class=\"dataframe\">\n",
       "  <thead>\n",
       "    <tr style=\"text-align: right;\">\n",
       "      <th></th>\n",
       "      <th>Symbol</th>\n",
       "      <th>Name</th>\n",
       "      <th>IndustryCode</th>\n",
       "      <th>Industry</th>\n",
       "    </tr>\n",
       "  </thead>\n",
       "  <tbody>\n",
       "    <tr>\n",
       "      <th>0</th>\n",
       "      <td>MSFT</td>\n",
       "      <td>Microsoft Corp</td>\n",
       "      <td>57201020</td>\n",
       "      <td>소프트웨어</td>\n",
       "    </tr>\n",
       "    <tr>\n",
       "      <th>1</th>\n",
       "      <td>AAPL</td>\n",
       "      <td>Apple Inc</td>\n",
       "      <td>57106020</td>\n",
       "      <td>전화 및 소형 장치</td>\n",
       "    </tr>\n",
       "    <tr>\n",
       "      <th>2</th>\n",
       "      <td>AMZN</td>\n",
       "      <td>Amazon.com Inc</td>\n",
       "      <td>53402010</td>\n",
       "      <td>백화점</td>\n",
       "    </tr>\n",
       "    <tr>\n",
       "      <th>3</th>\n",
       "      <td>NVDA</td>\n",
       "      <td>NVIDIA Corp</td>\n",
       "      <td>57101010</td>\n",
       "      <td>반도체</td>\n",
       "    </tr>\n",
       "    <tr>\n",
       "      <th>4</th>\n",
       "      <td>GOOGL</td>\n",
       "      <td>Alphabet Inc Class A</td>\n",
       "      <td>57201030</td>\n",
       "      <td>온라인 서비스</td>\n",
       "    </tr>\n",
       "  </tbody>\n",
       "</table>\n",
       "</div>"
      ],
      "text/plain": [
       "  Symbol                  Name IndustryCode    Industry\n",
       "0   MSFT        Microsoft Corp     57201020       소프트웨어\n",
       "1   AAPL             Apple Inc     57106020  전화 및 소형 장치\n",
       "2   AMZN        Amazon.com Inc     53402010         백화점\n",
       "3   NVDA           NVIDIA Corp     57101010         반도체\n",
       "4  GOOGL  Alphabet Inc Class A     57201030     온라인 서비스"
      ]
     },
     "execution_count": 85,
     "metadata": {},
     "output_type": "execute_result"
    }
   ],
   "source": [
    "nasdaq.head()"
   ]
  },
  {
   "cell_type": "code",
   "execution_count": 98,
   "id": "6fb23899-4763-4161-9645-512135f37f46",
   "metadata": {},
   "outputs": [
    {
     "data": {
      "text/plain": [
       "'Airnet Technology Inc ADR'"
      ]
     },
     "execution_count": 98,
     "metadata": {},
     "output_type": "execute_result"
    }
   ],
   "source": [
    "na = nasdaq[nasdaq['Symbol'] == 'ANTE'].reset_index()['Name'][0]\n",
    "na['Name'][0]"
   ]
  },
  {
   "cell_type": "code",
   "execution_count": null,
   "id": "e191ec09-cf1c-44f6-a4fb-19b7576229c0",
   "metadata": {},
   "outputs": [],
   "source": []
  }
 ],
 "metadata": {
  "kernelspec": {
   "display_name": "Python 3 (ipykernel)",
   "language": "python",
   "name": "python3"
  },
  "language_info": {
   "codemirror_mode": {
    "name": "ipython",
    "version": 3
   },
   "file_extension": ".py",
   "mimetype": "text/x-python",
   "name": "python",
   "nbconvert_exporter": "python",
   "pygments_lexer": "ipython3",
   "version": "3.12.1"
  }
 },
 "nbformat": 4,
 "nbformat_minor": 5
}
